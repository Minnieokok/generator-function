{
 "cells": [
  {
   "cell_type": "code",
   "execution_count": 4,
   "id": "51e9d9ac-e132-44b6-97f6-68ad9a7ba244",
   "metadata": {},
   "outputs": [],
   "source": [
    "def min_m(n) :\n",
    "    a,b=0,1\n",
    "    for i in range(n):\n",
    "        yield a\n",
    "        a,b=b,a+b\n",
    "        "
   ]
  },
  {
   "cell_type": "code",
   "execution_count": 5,
   "id": "f88ca20e-bf96-48c2-83ac-3b65d0571369",
   "metadata": {},
   "outputs": [
    {
     "data": {
      "text/plain": [
       "<generator object min_m at 0x7f3e85e861f0>"
      ]
     },
     "execution_count": 5,
     "metadata": {},
     "output_type": "execute_result"
    }
   ],
   "source": [
    "min_m(10)"
   ]
  },
  {
   "cell_type": "markdown",
   "id": "3d989ce4-7bde-4096-96d2-3432045277d8",
   "metadata": {},
   "source": [
    " for i in range(10):"
   ]
  },
  {
   "cell_type": "code",
   "execution_count": 8,
   "id": "dc96b464-4835-4754-9a57-59c049bd6a9d",
   "metadata": {},
   "outputs": [
    {
     "name": "stdout",
     "output_type": "stream",
     "text": [
      "0\n",
      "1\n",
      "1\n",
      "2\n",
      "3\n",
      "5\n",
      "8\n",
      "13\n",
      "21\n",
      "34\n"
     ]
    }
   ],
   "source": [
    "for i in min_m(10):\n",
    "    print(i)"
   ]
  },
  {
   "cell_type": "code",
   "execution_count": null,
   "id": "4862e37e-aee1-4863-82c3-9a1d635bb3b2",
   "metadata": {},
   "outputs": [],
   "source": []
  }
 ],
 "metadata": {
  "kernelspec": {
   "display_name": "Python 3 (ipykernel)",
   "language": "python",
   "name": "python3"
  },
  "language_info": {
   "codemirror_mode": {
    "name": "ipython",
    "version": 3
   },
   "file_extension": ".py",
   "mimetype": "text/x-python",
   "name": "python",
   "nbconvert_exporter": "python",
   "pygments_lexer": "ipython3",
   "version": "3.10.8"
  }
 },
 "nbformat": 4,
 "nbformat_minor": 5
}
